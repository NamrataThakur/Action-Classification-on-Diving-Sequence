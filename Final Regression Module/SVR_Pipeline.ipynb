{
 "cells": [
  {
   "cell_type": "code",
   "execution_count": 1,
   "id": "98837d4a",
   "metadata": {},
   "outputs": [],
   "source": [
    "import pandas as pd\n",
    "import numpy as np\n",
    "from datetime import datetime\n",
    "from sklearn.preprocessing import MinMaxScaler\n",
    "from sklearn.svm import SVR\n",
    "import joblib\n",
    "%matplotlib inline\n",
    "\n",
    "import warnings\n",
    "warnings.filterwarnings('ignore')"
   ]
  },
  {
   "cell_type": "code",
   "execution_count": 9,
   "id": "dc7374f4",
   "metadata": {},
   "outputs": [],
   "source": [
    "def preprocess(data):\n",
    "    \n",
    "    scaler = joblib.load('minMaxScaler')\n",
    "    som_median = data['modify_soms.'].median()\n",
    "    twist_median = data['modify_twist'].median()\n",
    "    predScore_median = data['predscore'].median()\n",
    "    \n",
    "    data['pred_somersault'] = np.where(data['modify_soms.'].notnull(),data['modify_soms.'],\n",
    "                                      np.where((data['fine_grained_soms.'].isnull()),0,som_median))\n",
    "\n",
    "    data['pred_twist'] = np.where(data['modify_twist'].notnull(),data['modify_twist'],\n",
    "                                      np.where((data['fine_grained_twist'].isnull()),0,twist_median))\n",
    "\n",
    "    data['updated_predscore'] = data['predscore'].fillna(predScore_median)\n",
    "    columnsToTrain = ['pred_twist','bend_angle','entry_angle','pred_somersault','updated_predscore',\n",
    "                 'mean_splash_index','ctr_area']\n",
    "    data_df = data[columnsToTrain]\n",
    "    data_df = scaler.transform(data_df)\n",
    "    print('Preprocessing Complete')\n",
    "    return data_df"
   ]
  },
  {
   "cell_type": "code",
   "execution_count": 16,
   "id": "90e880ae",
   "metadata": {},
   "outputs": [],
   "source": [
    "def final_results(file):\n",
    "    data = pd.read_excel(file)\n",
    "    preprocessed_data = preprocess(data)\n",
    "    model = joblib.load('svr')\n",
    "    svr_pred = round(model.predict(preprocessed_data)[0],4)\n",
    "    print('Modelling Complete')\n",
    "    return svr_pred"
   ]
  },
  {
   "cell_type": "code",
   "execution_count": 17,
   "id": "dc2a01cf",
   "metadata": {},
   "outputs": [
    {
     "name": "stdout",
     "output_type": "stream",
     "text": [
      "Preprocessing Complete\n",
      "Modelling Complete\n",
      "0.7475\n"
     ]
    }
   ],
   "source": [
    "svr_pred = final_results('Test_SVR.xlsx')\n",
    "print(svr_pred)"
   ]
  },
  {
   "cell_type": "code",
   "execution_count": null,
   "id": "6e183bb4",
   "metadata": {},
   "outputs": [],
   "source": []
  },
  {
   "cell_type": "code",
   "execution_count": null,
   "id": "1338780f",
   "metadata": {},
   "outputs": [],
   "source": []
  }
 ],
 "metadata": {
  "kernelspec": {
   "display_name": "Python 3 (ipykernel)",
   "language": "python",
   "name": "python3"
  },
  "language_info": {
   "codemirror_mode": {
    "name": "ipython",
    "version": 3
   },
   "file_extension": ".py",
   "mimetype": "text/x-python",
   "name": "python",
   "nbconvert_exporter": "python",
   "pygments_lexer": "ipython3",
   "version": "3.9.12"
  }
 },
 "nbformat": 4,
 "nbformat_minor": 5
}
